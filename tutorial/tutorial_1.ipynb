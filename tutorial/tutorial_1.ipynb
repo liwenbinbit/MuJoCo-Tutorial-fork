{
 "cells": [
  {
   "cell_type": "markdown",
   "metadata": {
    "id": "t0CF6Gvkt_Cw"
   },
   "source": [
    "# MuJoCo basics\n",
    "\n",
    "We begin by defining and loading a simple model:"
   ]
  },
  {
   "cell_type": "code",
   "execution_count": 19,
   "metadata": {},
   "outputs": [],
   "source": [
    "import mujoco\n",
    "import mediapy as media\n",
    "import matplotlib.pyplot as plt\n",
    "\n",
    "import time\n",
    "import itertools\n",
    "import numpy as np"
   ]
  },
  {
   "cell_type": "code",
   "execution_count": 20,
   "metadata": {
    "id": "3KJVqak6xdJa"
   },
   "outputs": [],
   "source": [
    "xml = \"\"\"\n",
    "<mujoco>\n",
    "  <worldbody>\n",
    "    <geom name=\"red_box\" type=\"box\" size=\".2 .2 .2\" rgba=\"1 0 0 1\"/>\n",
    "    <geom name=\"green_sphere\" pos=\".2 .2 .2\" size=\".1\" rgba=\"0 1 0 1\"/>\n",
    "  </worldbody>\n",
    "</mujoco>\n",
    "\"\"\"\n",
    "model = mujoco.MjModel.from_xml_string(xml)"
   ]
  },
  {
   "cell_type": "markdown",
   "metadata": {
    "id": "slhf39lGxvDI"
   },
   "source": [
    "The `xml` string is written in MuJoCo's [MJCF](http://www.mujoco.org/book/modeling.html), which is an [XML](https://en.wikipedia.org/wiki/XML#Key_terminology)-based modeling language.\n",
    "  - The only required element is `<mujoco>`. The smallest valid MJCF model is `<mujoco/>` which is a completely empty model.\n",
    "  - All physical elements live inside the `<worldbody>` which is always the top-level body and constitutes the global origin in Cartesian coordinates.\n",
    "  - We define two geoms in the world named `red_box` and `green_sphere`.\n",
    "  - **Question:** The `red_box` has no position, the `green_sphere` has no type, why is that?\n",
    "    - **Answer:** MJCF attributes have *default values*. The default position is `0 0 0`, the default geom type is `sphere`. The MJCF language is described in the documentation's [XML Reference chapter](https://mujoco.readthedocs.io/en/latest/XMLreference.html).\n",
    "\n",
    "The `from_xml_string()` method invokes the model compiler, which creates a binary `mjModel` instance."
   ]
  },
  {
   "cell_type": "markdown",
   "metadata": {
    "id": "gf9h_wi9weet"
   },
   "source": [
    "## mjModel\n",
    "\n",
    "MuJoCo's `mjModel`, contains the *model description*, i.e., all quantities which *do not change over time*. The complete description of `mjModel` can be found at the end of the header file [`mjmodel.h`](https://github.com/deepmind/mujoco/blob/main/include/mujoco/mjmodel.h). Note that the header files contain short, useful inline comments, describing each field.\n",
    "\n",
    "Examples of quantities that can be found in `mjModel` are `ngeom`, the number of geoms in the scene and `geom_rgba`, their respective colors:"
   ]
  },
  {
   "cell_type": "code",
   "execution_count": 21,
   "metadata": {
    "id": "F40Pe6DY3Q0g"
   },
   "outputs": [
    {
     "data": {
      "text/plain": [
       "2"
      ]
     },
     "execution_count": 21,
     "metadata": {},
     "output_type": "execute_result"
    }
   ],
   "source": [
    "model.ngeom"
   ]
  },
  {
   "cell_type": "code",
   "execution_count": 22,
   "metadata": {
    "id": "MOIJG9pzx8cA"
   },
   "outputs": [
    {
     "data": {
      "text/plain": [
       "array([[1., 0., 0., 1.],\n",
       "       [0., 1., 0., 1.]], dtype=float32)"
      ]
     },
     "execution_count": 22,
     "metadata": {},
     "output_type": "execute_result"
    }
   ],
   "source": [
    "model.geom_rgba"
   ]
  },
  {
   "cell_type": "markdown",
   "metadata": {
    "id": "bzcLjdY23Kvp"
   },
   "source": [
    "## Named access\n",
    "\n",
    "The MuJoCo Python bindings provide convenient [accessors](https://mujoco.readthedocs.io/en/latest/python.html#named-access) using names. Calling the `model.geom()` accessor without a name string generates a convenient error that tells us what the valid names are."
   ]
  },
  {
   "cell_type": "code",
   "execution_count": 23,
   "metadata": {
    "id": "9AuTwbLFyJxQ"
   },
   "outputs": [
    {
     "name": "stdout",
     "output_type": "stream",
     "text": [
      "\"Invalid name ''. Valid names: ['green_sphere', 'red_box']\"\n"
     ]
    }
   ],
   "source": [
    "try:\n",
    "  model.geom()\n",
    "except KeyError as e:\n",
    "  print(e)"
   ]
  },
  {
   "cell_type": "markdown",
   "metadata": {
    "id": "qkfLK3h2zrqr"
   },
   "source": [
    "Calling the named accessor without specifying a property will tell us what all the valid properties are:"
   ]
  },
  {
   "cell_type": "code",
   "execution_count": 24,
   "metadata": {
    "id": "9X95TlWnyEEw"
   },
   "outputs": [
    {
     "data": {
      "text/plain": [
       "<_MjModelGeomViews\n",
       "  bodyid: array([0], dtype=int32)\n",
       "  conaffinity: array([1], dtype=int32)\n",
       "  condim: array([3], dtype=int32)\n",
       "  contype: array([1], dtype=int32)\n",
       "  dataid: array([-1], dtype=int32)\n",
       "  friction: array([1.e+00, 5.e-03, 1.e-04])\n",
       "  gap: array([0.])\n",
       "  group: array([0], dtype=int32)\n",
       "  id: 1\n",
       "  margin: array([0.])\n",
       "  matid: array([-1], dtype=int32)\n",
       "  name: 'green_sphere'\n",
       "  pos: array([0.2, 0.2, 0.2])\n",
       "  priority: array([0], dtype=int32)\n",
       "  quat: array([1., 0., 0., 0.])\n",
       "  rbound: array([0.1])\n",
       "  rgba: array([0., 1., 0., 1.], dtype=float32)\n",
       "  sameframe: array([0], dtype=uint8)\n",
       "  size: array([0.1, 0. , 0. ])\n",
       "  solimp: array([9.0e-01, 9.5e-01, 1.0e-03, 5.0e-01, 2.0e+00])\n",
       "  solmix: array([1.])\n",
       "  solref: array([0.02, 1.  ])\n",
       "  type: array([2], dtype=int32)\n",
       "  user: array([], dtype=float64)\n",
       ">"
      ]
     },
     "execution_count": 24,
     "metadata": {},
     "output_type": "execute_result"
    }
   ],
   "source": [
    "model.geom('green_sphere')"
   ]
  },
  {
   "cell_type": "markdown",
   "metadata": {
    "id": "mS9qDLevKsJq"
   },
   "source": [
    "Let's read the `green_sphere`'s rgba values:"
   ]
  },
  {
   "cell_type": "code",
   "execution_count": 25,
   "metadata": {
    "id": "xsBlJAV7zpHb"
   },
   "outputs": [
    {
     "data": {
      "text/plain": [
       "array([0., 1., 0., 1.], dtype=float32)"
      ]
     },
     "execution_count": 25,
     "metadata": {},
     "output_type": "execute_result"
    }
   ],
   "source": [
    "model.geom('green_sphere').rgba"
   ]
  },
  {
   "cell_type": "markdown",
   "metadata": {
    "id": "8a8hswjjKyIa"
   },
   "source": [
    "This functionality is a convenience shortcut for MuJoCo's [`mj_name2id`](https://mujoco.readthedocs.io/en/latest/APIreference.html?highlight=mj_name2id#mj-name2id) function:"
   ]
  },
  {
   "cell_type": "code",
   "execution_count": 26,
   "metadata": {
    "id": "Ng92hNUoKnVq"
   },
   "outputs": [
    {
     "data": {
      "text/plain": [
       "array([0., 1., 0., 1.], dtype=float32)"
      ]
     },
     "execution_count": 26,
     "metadata": {},
     "output_type": "execute_result"
    }
   ],
   "source": [
    "id = mujoco.mj_name2id(model, mujoco.mjtObj.mjOBJ_GEOM, 'green_sphere')\n",
    "model.geom_rgba[id, :]"
   ]
  },
  {
   "cell_type": "markdown",
   "metadata": {
    "id": "5WL_SaJPLl3r"
   },
   "source": [
    "Similarly, the read-only `id` and `name` properties can be used to convert from id to name and back:"
   ]
  },
  {
   "cell_type": "code",
   "execution_count": 27,
   "metadata": {
    "id": "2CbGSmRZeE5p"
   },
   "outputs": [
    {
     "name": "stdout",
     "output_type": "stream",
     "text": [
      "id of \"green_sphere\":  1\n",
      "name of geom 1:  green_sphere\n",
      "name of body 0:  world\n"
     ]
    }
   ],
   "source": [
    "print('id of \"green_sphere\": ', model.geom('green_sphere').id)\n",
    "print('name of geom 1: ', model.geom(1).name)\n",
    "print('name of body 0: ', model.body(0).name)"
   ]
  },
  {
   "cell_type": "markdown",
   "metadata": {
    "id": "3RIizubaL_du"
   },
   "source": [
    "Note that the 0th body is always the `world`. It cannot be renamed.\n",
    "\n",
    "The `id` and `name` attributes are useful in Python comprehensions:"
   ]
  },
  {
   "cell_type": "code",
   "execution_count": 28,
   "metadata": {
    "id": "m3MtIE5F1K7s"
   },
   "outputs": [
    {
     "data": {
      "text/plain": [
       "['red_box', 'green_sphere']"
      ]
     },
     "execution_count": 28,
     "metadata": {},
     "output_type": "execute_result"
    }
   ],
   "source": [
    "[model.geom(i).name for i in range(model.ngeom)]"
   ]
  },
  {
   "cell_type": "markdown",
   "metadata": {
    "id": "t5hY0fyXFLcf"
   },
   "source": [
    "## `mjData`\n",
    "`mjData` contains the *state* and quantities that depend on it. The state is made up of time, [generalized](https://en.wikipedia.org/wiki/Generalized_coordinates) positions and generalized velocities. These are respectively `data.time`, `data.qpos` and `data.qvel`. In order to make a new `mjData`, all we need is our `mjModel`"
   ]
  },
  {
   "cell_type": "code",
   "execution_count": 29,
   "metadata": {
    "id": "FV2Hy6m948nr"
   },
   "outputs": [],
   "source": [
    "data = mujoco.MjData(model)"
   ]
  },
  {
   "cell_type": "markdown",
   "metadata": {
    "id": "-KmNuvlJ46u0"
   },
   "source": [
    "`mjData` also contains *functions of the state*, for example the Cartesian positions of objects in the world frame. The (x, y, z) positions of our two geoms are in `data.geom_xpos`:"
   ]
  },
  {
   "cell_type": "code",
   "execution_count": 30,
   "metadata": {
    "id": "CPwDcAQ0-uUE"
   },
   "outputs": [
    {
     "name": "stdout",
     "output_type": "stream",
     "text": [
      "[[0. 0. 0.]\n",
      " [0. 0. 0.]]\n"
     ]
    }
   ],
   "source": [
    "print(data.geom_xpos)"
   ]
  },
  {
   "cell_type": "markdown",
   "metadata": {
    "id": "Sjst5xGXX3sr"
   },
   "source": [
    "Wait, why are both of our geoms at the origin? Didn't we offset the green sphere? The answer is that derived quantities in `mjData` need to be explicitly propagated (see [below](#scrollTo=QY1gpms1HXeN)). In our case, the minimal required function is [`mj_kinematics`](https://mujoco.readthedocs.io/en/latest/APIreference.html#mj-kinematics), which computes global Cartesian poses for all objects (excluding cameras and lights)."
   ]
  },
  {
   "cell_type": "code",
   "execution_count": 31,
   "metadata": {
    "id": "tfe0YeZRYNTr"
   },
   "outputs": [
    {
     "name": "stdout",
     "output_type": "stream",
     "text": [
      "raw access:\n",
      " [[0.  0.  0. ]\n",
      " [0.2 0.2 0.2]]\n",
      "\n",
      "named access:\n",
      " [0.2 0.2 0.2]\n"
     ]
    }
   ],
   "source": [
    "mujoco.mj_kinematics(model, data)\n",
    "print('raw access:\\n', data.geom_xpos)\n",
    "\n",
    "# MjData also supports named access:\n",
    "print('\\nnamed access:\\n', data.geom('green_sphere').xpos)"
   ]
  },
  {
   "cell_type": "markdown",
   "metadata": {
    "id": "eU7uWNsTwmcZ"
   },
   "source": [
    "# Basic rendering, simulation, and animation\n",
    "\n",
    "In order to render we'll need to instantiate a `Renderer` object and call its `render` method.\n",
    "\n",
    "We'll also reload our model to make the colab's sections independent."
   ]
  },
  {
   "cell_type": "code",
   "execution_count": 32,
   "metadata": {
    "id": "xK3c0-UDxMrN"
   },
   "outputs": [
    {
     "data": {
      "text/html": [
       "<table class=\"show_images\" style=\"border-spacing:0px;\"><tr><td style=\"padding:1px;\"><img width=\"320\" height=\"240\" style=\"image-rendering:auto; object-fit:cover;\" src=\"data:image/png;base64,iVBORw0KGgoAAAANSUhEUgAAAUAAAADwCAIAAAD+Tyo8AAAA9UlEQVR4nO3BAQEAAACCIP+vbkhAAQAAAAAAAAAAAAAAAAAAAAAAAAAAAAAAAAAAAAAAAAAAAAAAAAAAAAAAAAAAAAAAAAAAAAAAAAAAAAAAAAAAAAAAAAAAAAAAAAAAAAAAAAAAAAAAAAAAAAAAAAAAAAAAAAAAAAAAAAAAAAAAAAAAAAAAAAAAAAAAAAAAAAAAAAAAAAAAAAAAAAAAAAAAAAAAAAAAAAAAAAAAAAAAAAAAAAAAAAAAAAAAAAAAAAAAAAAAAAAAAAAAAAAAAAAAAAAAAAAAAAAAAAAAAAAAAAAAAAAAAAAAAAAAAAAAAAAAAPBohR0AAXbPpmUAAAAASUVORK5CYII=\"/></td></tr></table>"
      ],
      "text/plain": [
       "<IPython.core.display.HTML object>"
      ]
     },
     "metadata": {},
     "output_type": "display_data"
    }
   ],
   "source": [
    "xml = \"\"\"\n",
    "<mujoco>\n",
    "  <worldbody>\n",
    "    <light name=\"top\" pos=\"0 0 1\"/>\n",
    "    <geom name=\"red_box\" type=\"box\" size=\".2 .2 .2\" rgba=\"1 0 0 1\"/>\n",
    "    <geom name=\"green_sphere\" pos=\".2 .2 .2\" size=\".1\" rgba=\"0 1 0 1\"/>\n",
    "  </worldbody>\n",
    "</mujoco>\n",
    "\"\"\"\n",
    "#\n",
    "# Make model and data\n",
    "model = mujoco.MjModel.from_xml_string(xml)\n",
    "data = mujoco.MjData(model)\n",
    "\n",
    "# Make renderer, render and show the pixels\n",
    "renderer = mujoco.Renderer(model)\n",
    "media.show_image(renderer.render())"
   ]
  },
  {
   "cell_type": "markdown",
   "metadata": {
    "id": "ZkFSHeYGxlT5"
   },
   "source": [
    "Hmmm, why the black pixels?\n",
    "\n",
    "**Answer:** For the same reason as above, we first need to propagate the values in `mjData`. This time we'll call [`mj_forward`](https://mujoco.readthedocs.io/en/latest/APIreference.html#mj-forward), which invokes the entire pipeline up to the computation of accelerations i.e., it computes $\\dot x = f(x)$, where $x$ is the state. This function does more than we actually need, but unless we care about saving computation time, it's good practice to call `mj_forward` since then we know we are not missing anything.\n",
    "\n",
    "We also need to update the `mjvScene` which is an object held by the renderer describing the visual scene. We'll later see that the scene can include visual objects which are not part of the physical model."
   ]
  },
  {
   "cell_type": "code",
   "execution_count": 16,
   "metadata": {
    "id": "pvh47r97huS4"
   },
   "outputs": [
    {
     "data": {
      "text/html": [
       "<table class=\"show_images\" style=\"border-spacing:0px;\"><tr><td style=\"padding:1px;\"><img width=\"320\" height=\"240\" style=\"image-rendering:auto; object-fit:cover;\" src=\"data:image/png;base64,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\"/></td></tr></table>"
      ],
      "text/plain": [
       "<IPython.core.display.HTML object>"
      ]
     },
     "metadata": {},
     "output_type": "display_data"
    }
   ],
   "source": [
    "mujoco.mj_forward(model, data)\n",
    "renderer.update_scene(data)\n",
    "\n",
    "media.show_image(renderer.render())"
   ]
  },
  {
   "cell_type": "markdown",
   "metadata": {
    "id": "-P95E-QHizQq"
   },
   "source": [
    "# Simulation\n",
    "\n",
    "Now let's simulate and make a video. We'll use MuJoCo's main high level function `mj_step`, which steps the state $x_{t+h} = f(x_t)$.\n",
    "\n",
    "Note that in the code block below we are *not* rendering after each call to `mj_step`. This is because the default timestep is 2ms, and we want a 60fps video, not 500fps."
   ]
  },
  {
   "cell_type": "code",
   "execution_count": 17,
   "metadata": {
    "id": "NdVnHOYisiKl"
   },
   "outputs": [
    {
     "data": {
      "text/html": [
       "<table class=\"show_videos\" style=\"border-spacing:0px;\"><tr><td style=\"padding:1px;\"><video controls width=\"320\" height=\"240\" style=\"object-fit:cover;\" loop autoplay muted>\n",
       "      <source src=\"data:video/mp4;base64,AAAAIGZ0eXBpc29tAAACAGlzb21pc28yYXZjMW1wNDEAAAAIZnJlZQAAGcttZGF0AAACfwYF//973EXpvebZSLeWLNgg2SPu73gyNjQgLSBjb3JlIDE2NCByMzA5NSBiYWVlNDAwIC0gSC4yNjQvTVBFRy00IEFWQyBjb2RlYyAtIENvcHlsZWZ0IDIwMDMtMjAyMiAtIGh0dHA6Ly93d3cudmlkZW9sYW4ub3JnL3gyNjQuaHRtbCAtIG9wdGlvbnM6IGNhYmFjPTEgcmVmPTMgZGVibG9jaz0xOjA6MCBhbmFseXNlPTB4MzoweDExMyBtZT1oZXggc3VibWU9NyBwc3k9MSBwc3lfcmQ9MS4wMDowLjAwIG1peGVkX3JlZj0xIG1lX3JhbmdlPTE2IGNocm9tYV9tZT0xIHRyZWxsaXM9MSA4eDhkY3Q9MSBjcW09MCBkZWFkem9uZT0yMSwxMSBmYXN0X3Bza2lwPTEgY2hyb21hX3FwX29mZnNldD0tMiB0aHJlYWRzPTcgbG9va2FoZWFkX3RocmVhZHM9MSBzbGljZWRfdGhyZWFkcz0wIG5yPTAgZGVjaW1hdGU9MSBpbnRlcmxhY2VkPTAgYmx1cmF5X2NvbXBhdD0wIGNvbnN0cmFpbmVkX2ludHJhPTAgYmZyYW1lcz0zIGJfcHlyYW1pZD0yIGJfYWRhcHQ9MSBiX2JpYXM9MCBkaXJlY3Q9MSB3ZWlnaHRiPTEgb3Blbl9nb3A9MCB3ZWlnaHRwPTIga2V5aW50PTI1MCBrZXlpbnRfbWluPTI1IHNjZW5lY3V0PTQwIGludHJhX3JlZnJlc2g9MCByYz1jcXAgbWJ0cmVlPTAgcXA9MjAgaXBfcmF0aW89MS40MCBwYl9yYXRpbz0xLjMwIGFxPTAAgAAACO1liIQA//70oPgU0GJjysxWvdiImDlA4OyuFgOPWaBorz+OvZRLgv4CW6jrV2CiO2T2UYpKhnoT1UcWjjRpBr45rUKKxjagZTG8GBfdCjkPi+nyKAs7SCvJO0wmbSZ9goeOJZhMVLHtqA76/d7Yd1QYSPiEzBbXLI4tFCX1jxpoMiyjfnHdddQ1MAqxxJnE2ui3kQ0ciQRx2kHv2XWHGzYiQ5J2qIkFc4TIYi6LYyxavCq2RMiD8R5drBNBKI7YkYQ2GyQjZGKe7/ccrZix7112Tjr8ZokyiAuoEIPRZt2gccrsfwDNuAMg8GR+rmnnWvBBPiWvqEU46MqUW/wh7Iy+92fyffHUZVc2tt43MbCBBFVat5lfBvocuzu0u0m19EPYSOaCq2R5cr//qcwQT2gIHAPE82fDLUtkuSeAkwZjfwadoT+aYzWhS4QQHbksXX1/mFfLtcB3V8pXmroY6S/gs/qcPlbHNOBUxyDGpPE3nEIqB0rtCiTFA97IIxztWIkbqVGUs6JhpYoWPPgxpG1uEz10M/JvkOSr0xeTt8yg+8i4M1cPUm9FX5qHUR2m6u1guRcptD8nWMwGoKwK90VpLSYBzDA7/YVP+ZqtDluL9pQ3HE4NJzMAekvVt/sqgI9E4rXQeipKbf8/mVhJy3rGaWYGf64XGRWTrYYMUDUOag0Zc/Pim3gnwrBz1Z22eoldfiy6ZaAN+GwjZxt17UQklPpmVDJEv9m8OccSNiftK2St9JO5z+raCw2zeMe1GteuIQKjJx9Ea1NxWbfB/R/Y4FaK21YFlY3vFX9rsNtH5O4rcMyVKUB4WDcmCL5Hf+lQVEtrbRRCqa1Zx+0Sdr3qCq+2qOyzKa2KAubPGwYA/SKZgMRmQB2VXtE7ZoUdsyzxhKlGRUYCJo5KjP30L7ZdZ2AmI4q1x7KXAj7n31y2iSW9BxPCyKoTXd09Vki4AGgOR+u5CLlKOJB/J/5afYHAckFwiEPBuh1z8rzwaMilF0iD4lhbrK3yo1T6W+rvwetXRhCQ/9KBEULdmh5pDdV83HsyqDvQuCxU21YYfQ1B4uA1krfY5XcXbttPD1JvQelvtSvhwdvS3iWlHZtlRidDwDWBRvH9A2s9lSC5uea6bIeVvZRpic9hB1dlfWQl9aLQgQ/KcWfGAmTovHeHwPJobH0hJy//h7dN34QYG5hj+4lpEKt/J0uP8XNamLwh3BvwcCs4ubNGWmCnhzvlnkRfSXuf7rI3wTYUUcARCtac9xhzSJjPZ0MgY3ciAjEE5WDydt3HlAM9DlP1Pit55i01AsyGOM7GiRCExT5kNxkTVd/RAtoflWqLZZrbky5BK7VkHNLhY8q2+ZoJ9ddeo0g8n15us1ygjiUS4u6MeHpQqzCCAFpwB9ro+bXp2ZOONliyachQ3eBJU+chvzAwlx+AMePcHIlhsPeou/Ijw7zOZR5KAO3IoLcomMGQr5ZWn5YBT3CMzjQ21/V3bHQDsxgvpQvxrU+s+5GF8/oecTVqp0hOSLsLXctjZI7egtenDVxSDOadrLUirLAwcn20mr/OYwJJSB77wM3B330l/Txz7RJY5FipPKqhsAEOx1tc92oMnJzzZ3IxeRoqL+nFlYCYGPBOrm/KdrSI6omqyq8pFwmZnMufSPqXy6EBxh5S64lByGLgexftrtEkIFTb6Q7scrN2acDTfmaaC/0DHkhXasvVRIoQ4TNZDRfl63bFzDz6ylyeKBEe0OgxH3JFO55t7JvO11+9sxhU3tRujsIUt9q4KCcTh6f+lImSU0TaC0Lu5rXzuufQnPNkSy7OZKkNDhMhHuxYUxe7Cl1toyhlec1GqHu4k3RrB6uub1xIcmelNmQP6a4O3fAla7iyJqDqvi+f6y2kckAwRpEGL34EXo6UO4P4/myObjAyaxBv1yQaO4+OEknOWgrRQoQoIhr70KSo1OEIqhWiERFKam/I4cD9xrI4VzJSJvLgRXxw1oouu1KnQqeSdG47Sfd1XuR4+hNpfncNWnRGKXeaY0psSvNGhITsTkJLWd0OT38s9TSQ7/QQmPLO6AhC+mLjkgXRun35HsuIk+vPqZbl4sE8HBsmOxGsLnm70k6gm/MdiKEY1QpxYM/YS8OtwY0Pe+fVRCpoE8HoEFZYumcHbB68q/loYb3ZXscQ8t6I39LWyCiwJ59uyWf9jWPzZ77xhTTGcCWpVJCSO+dnQVVboLFnOxxdkyUJfQce7aSF/JRU8L8YhQ4lFCyRTpApAy9ao9qb1xd3c1hfvES+oCMD5aOLahpFCTTib3nVjmH+atTA6PQuZ6KgNSaGYfUVXZYH2+ufjoHkY+q8SPSvjtIZ9QQW07iOW7uPB9OboK7wIbEjsfJgZ1eZtmBxbysp23fa+VvWp4VdPWCu8UIlYv0PlvyRoFIux1aVvqfbp45VBBx9oxVs0zSwbaUhJHq01ilB/52rt3FeIZvHdMvHxt6JWWepsihDa0i60byFEb3JzwYS2ZV05O4DuRjWz1tlzfB9/Mub3PO3wBe5N+DyZ4k3r996eVcjDhbSNIRfQLkWz5F6y6YAOy6p7Jva93ynt2og2K0qSa0Ypdv6vUsyycebigF7fOmt7fkbXmKR2Hg4EWxcT7FsdEVbnMiVu9H0iM7d25Sx9CkcqY9VSccWXbOUvrmpDMfQQ9Amr9U5l7ja+1kP+SLhcP4PyujOhOM4m7zg+HBrvyAWFmV3n++aR+OxnWZ70tAzj611Dl7pBeAYEEqAPF5/W5TkWEpnchBY9u2CDLsbhUolwWxkBpVD7ZJZqp/sLKWqXE9p7XfFlywefh+Y2Dhmun1oXaabFlHTAFub0swgvEDU3EGzTvNrrj3N+oFhLaYbk/w4EElLh+u3F58Wh9zbnITgpVRVxlqMI3WQlmwi332iBXCNxUei2rp/DS0WnqRX4IIo41fPA6NmUXcNb1VDhNiNNw+JIoZK1TuPnkGw+YbzO+i0ea136/+2i4cuW4lvWn+GjC0Hz6rQ/yyiovycWzS/AnQXHfwb7xXgwv/fvcCGXMWXHSeGQBdWwQAAABFBmiRsf+RAJAbOUzoVWgjseAAAAAxBnkJ4rwaPEu/UZRsAAAAMAZ5hdEn/AYJbpHVIAAAADAGeY2pJ/wGEV393SQAAABRBmmhJqEFomUwP/+RAA15Ur0aXcQAAAA5BnoZFES1/BpP74BOCjQAAAAwBnqV0Sf8BglukdUkAAAAMAZ6nakn/AYRXf3dIAAAAEEGarEmoQWyZTA//5EAAC7gAAAAOQZ7KRRUtfwaT++ATgo0AAAAJAZ7pdEn/AAUkAAAACQGe62pJ/wAFJAAAABBBmvBJqEFsmUwP/+RAAAu5AAAADkGfDkUVLX8Gk/vgE4KNAAAACQGfLXRJ/wAFJQAAAAkBny9qSf8ABSQAAAAQQZs0SahBbJlMD//kQAALuAAAAA5Bn1JFFS1/BpP74BOCjQAAAAkBn3F0Sf8ABSQAAAAJAZ9zakn/AAUkAAAAEEGbeEmoQWyZTA//5EAAC7kAAAAOQZ+WRRUtfwaT++ATgo0AAAAJAZ+1dEn/AAUlAAAACQGft2pJ/wAFJQAAABBBm7xJqEFsmUwP/+RAAAu4AAAADkGf2kUVLX8Gk/vgE4KNAAAACQGf+XRJ/wAFJAAAAAkBn/tqSf8ABSUAAAAQQZvgSahBbJlMD//kQAALuQAAAA5Bnh5FFS1/BpP74BOCjQAAAAkBnj10Sf8ABSQAAAAJAZ4/akn/AAUlAAAAEEGaJEmoQWyZTA//5EAAC7gAAAAOQZ5CRRUtfwaT++ATgo0AAAAJAZ5hdEn/AAUkAAAACQGeY2pJ/wAFJQAAABBBmmhJqEFsmUwP/+RAAAu5AAAADkGehkUVLX8Gk/vgE4KNAAAACQGepXRJ/wAFJQAAAAkBnqdqSf8ABSQAAAAQQZqsSahBbJlMD//kQAALuAAAAA5BnspFFS1/BpP74BOCjQAAAAkBnul0Sf8ABSQAAAAJAZ7rakn/AAUkAAAAEEGa8EmoQWyZTA//5EAAC7kAAAAOQZ8ORRUtfwaT++ATgo0AAAAJAZ8tdEn/AAUlAAAACQGfL2pJ/wAFJAAAABBBmzRJqEFsmUwP/+RAAAu4AAAADkGfUkUVLX8Gk/vgE4KNAAAACQGfcXRJ/wAFJAAAAAkBn3NqSf8ABSQAAAAQQZt4SahBbJlMD//kQAALuQAAAA5Bn5ZFFS1/BpP74BOCjQAAAAkBn7V0Sf8ABSUAAAAJAZ+3akn/AAUlAAAAEEGbvEmoQWyZTA//5EAAC7gAAAAOQZ/aRRUtfwaT++ATgo0AAAAJAZ/5dEn/AAUkAAAACQGf+2pJ/wAFJQAAABBBm+BJqEFsmUwP/+RAAAu5AAAADkGeHkUVLX8Gk/vgE4KNAAAACQGePXRJ/wAFJAAAAAkBnj9qSf8ABSUAAAAQQZokSahBbJlMD//kQAALuAAAAA5BnkJFFS1/BpP74BOCjQAAAAkBnmF0Sf8ABSQAAAAJAZ5jakn/AAUlAAAAEEGaaEmoQWyZTA//5EAAC7kAAAAOQZ6GRRUtfwaT++ATgo0AAAAJAZ6ldEn/AAUlAAAACQGep2pJ/wAFJAAAABBBmqxJqEFsmUwP/+RAAAu4AAAADkGeykUVLX8Gk/vgE4KNAAAACQGe6XRJ/wAFJAAAAAkBnutqSf8ABSQAAAAQQZrwSahBbJlMD//kQAALuQAAAA5Bnw5FFS1/BpP74BOCjQAAAAkBny10Sf8ABSUAAAAJAZ8vakn/AAUkAAAAEEGbNEmoQWyZTA//5EAAC7gAAAAOQZ9SRRUtfwaT++ATgo0AAAAJAZ9xdEn/AAUkAAAACQGfc2pJ/wAFJAAAABBBm3hJqEFsmUwP/+RAAAu5AAAADkGflkUVLX8Gk/vgE4KNAAAACQGftXRJ/wAFJQAAAAkBn7dqSf8ABSUAAAAQQZu8SahBbJlMD//kQAALuAAAAA5Bn9pFFS1/BpP74BOCjQAAAAkBn/l0Sf8ABSQAAAAJAZ/7akn/AAUlAAAAEEGb4EmoQWyZTA//5EAAC7kAAAAOQZ4eRRUtfwaT++ATgo0AAAAJAZ49dEn/AAUkAAAACQGeP2pJ/wAFJQAAABBBmiRJqEFsmUwP/+RAAAu4AAAADkGeQkUVLX8Gk/vgE4KNAAAACQGeYXRJ/wAFJAAAAAkBnmNqSf8ABSUAAAAQQZpoSahBbJlMD//kQAALuQAAAA5BnoZFFS1/BpP74BOCjQAAAAkBnqV0Sf8ABSUAAAAJAZ6nakn/AAUkAAAAEEGarEmoQWyZTA//5EAAC7gAAAAOQZ7KRRUtfwaT++ATgo0AAAAJAZ7pdEn/AAUkAAAACQGe62pJ/wAFJAAAABBBmvBJqEFsmUwP/+RAAAu5AAAADkGfDkUVLX8Gk/vgE4KNAAAACQGfLXRJ/wAFJQAAAAkBny9qSf8ABSQAAAAQQZs0SahBbJlMD//kQAALuAAAAA5Bn1JFFS1/BpP74BOCjQAAAAkBn3F0Sf8ABSQAAAAJAZ9zakn/AAUkAAAAEEGbeEmoQWyZTA//5EAAC7kAAAAOQZ+WRRUtfwaT++ATgo0AAAAJAZ+1dEn/AAUlAAAACQGft2pJ/wAFJQAAABBBm7xJqEFsmUwP/+RAAAu4AAAADkGf2kUVLX8Gk/vgE4KNAAAACQGf+XRJ/wAFJAAAAAkBn/tqSf8ABSUAAAAQQZvgSahBbJlMD//kQAALuQAAAA5Bnh5FFS1/BpP74BOCjQAAAAkBnj10Sf8ABSQAAAAJAZ4/akn/AAUlAAAAEEGaJEmoQWyZTA//5EAAC7gAAAAOQZ5CRRUtfwaT++ATgo0AAAAJAZ5hdEn/AAUkAAAACQGeY2pJ/wAFJQAAABBBmmhJqEFsmUwP/+RAAAu5AAAADkGehkUVLX8Gk/vgE4KNAAAACQGepXRJ/wAFJQAAAAkBnqdqSf8ABSQAAAAQQZqsSahBbJlMD//kQAALuAAAAA5BnspFFS1/BpP74BOCjQAAAAkBnul0Sf8ABSQAAAAJAZ7rakn/AAUkAAAAEEGa8EmoQWyZTA//5EAAC7kAAAAOQZ8ORRUtfwaT++ATgo0AAAAJAZ8tdEn/AAUlAAAACQGfL2pJ/wAFJAAAABBBmzRJqEFsmUwP/+RAAAu4AAAADkGfUkUVLX8Gk/vgE4KNAAAACQGfcXRJ/wAFJAAAAAkBn3NqSf8ABSQAAAAQQZt4SahBbJlMD//kQAALuQAAAA5Bn5ZFFS1/BpP74BOCjQAAAAkBn7V0Sf8ABSUAAAAJAZ+3akn/AAUlAAAAEEGbvEmoQWyZTA//5EAAC7gAAAAOQZ/aRRUtfwaT++ATgo0AAAAJAZ/5dEn/AAUkAAAACQGf+2pJ/wAFJQAAABBBm+BJqEFsmUwP/+RAAAu5AAAADkGeHkUVLX8Gk/vgE4KNAAAACQGePXRJ/wAFJAAAAAkBnj9qSf8ABSUAAAAQQZokSahBbJlMD//kQAALuAAAAA5BnkJFFS1/BpP74BOCjQAAAAkBnmF0Sf8ABSQAAAAJAZ5jakn/AAUlAAAAEEGaaEmoQWyZTA//5EAAC7kAAAAOQZ6GRRUtfwaT++ATgo0AAAAJAZ6ldEn/AAUlAAAACQGep2pJ/wAFJAAAABBBmqxJqEFsmUwP/+RAAAu4AAAADkGeykUVLX8Gk/vgE4KNAAAACQGe6XRJ/wAFJAAAAAkBnutqSf8ABSQAAAAQQZrwSahBbJlMD//kQAALuQAAAA5Bnw5FFS1/BpP74BOCjQAAAAkBny10Sf8ABSUAAAAJAZ8vakn/AAUkAAAAEEGbNEmoQWyZTA//5EAAC7gAAAAOQZ9SRRUtfwaT++ATgo0AAAAJAZ9xdEn/AAUkAAAACQGfc2pJ/wAFJAAAABBBm3hJqEFsmUwP/+RAAAu5AAAADkGflkUVLX8Gk/vgE4KNAAAACQGftXRJ/wAFJQAAAAkBn7dqSf8ABSUAAAAQQZu8SahBbJlMD//kQAALuAAAAA5Bn9pFFS1/BpP74BOCjQAAAAkBn/l0Sf8ABSQAAAAJAZ/7akn/AAUlAAAAEEGb4EmoQWyZTA//5EAAC7kAAAAOQZ4eRRUtfwaT++ATgo0AAAAJAZ49dEn/AAUkAAAACQGeP2pJ/wAFJQAAABBBmiRJqEFsmUwP/+RAAAu4AAAADkGeQkUVLX8Gk/vgE4KNAAAACQGeYXRJ/wAFJAAAAAkBnmNqSf8ABSUAAAAQQZpoSahBbJlMD//kQAALuQAAAA5BnoZFFS1/BpP74BOCjQAAAAkBnqV0Sf8ABSUAAAAJAZ6nakn/AAUkAAAAEEGarEmoQWyZTA//5EAAC7gAAAAOQZ7KRRUtfwaT++ATgo0AAAAJAZ7pdEn/AAUkAAAACQGe62pJ/wAFJAAAABBBmvBJqEFsmUwP/+RAAAu5AAAADkGfDkUVLX8Gk/vgE4KNAAAACQGfLXRJ/wAFJQAAAAkBny9qSf8ABSQAAAAQQZs0SahBbJlMD//kQAALuAAAAA5Bn1JFFS1/BpP74BOCjQAAAAkBn3F0Sf8ABSQAAAAJAZ9zakn/AAUkAAAAEEGbeEmoQWyZTA//5EAAC7kAAAAOQZ+WRRUtfwaT++ATgo0AAAAJAZ+1dEn/AAUlAAAACQGft2pJ/wAFJQAAABBBm7xJqEFsmUwP/+RAAAu4AAAADkGf2kUVLX8Gk/vgE4KNAAAACQGf+XRJ/wAFJAAAAAkBn/tqSf8ABSUAAAAQQZvgSahBbJlMD//kQAALuQAAAA5Bnh5FFS1/BpP74BOCjQAAAAkBnj10Sf8ABSQAAAAJAZ4/akn/AAUlAAAAEEGaJEmoQWyZTA//5EAAC7gAAAAOQZ5CRRUtfwaT++ATgo0AAAAJAZ5hdEn/AAUkAAAACQGeY2pJ/wAFJQAADeRtb292AAAAbG12aGQAAAAAAAAAAAAAAAAAAAPoAAAO6QABAAABAAAAAAAAAAAAAAAAAQAAAAAAAAAAAAAAAAAAAAEAAAAAAAAAAAAAAAAAAEAAAAAAAAAAAAAAAAAAAAAAAAAAAAAAAAAAAAAAAAACAAAND3RyYWsAAABcdGtoZAAAAAMAAAAAAAAAAAAAAAEAAAAAAAAO6QAAAAAAAAAAAAAAAAAAAAAAAQAAAAAAAAAAAAAAAAAAAAEAAAAAAAAAAAAAAAAAAEAAAAABQAAAAPAAAAAAACRlZHRzAAAAHGVsc3QAAAAAAAAAAQAADukAAAIAAAEAAAAADIdtZGlhAAAAIG1kaGQAAAAAAAAAAAAAAAAAADwAAADlAFXEAAAAAAAtaGRscgAAAAAAAAAAdmlkZQAAAAAAAAAAAAAAAFZpZGVvSGFuZGxlcgAAAAwybWluZgAAABR2bWhkAAAAAQAAAAAAAAAAAAAAJGRpbmYAAAAcZHJlZgAAAAAAAAABAAAADHVybCAAAAABAAAL8nN0YmwAAACuc3RzZAAAAAAAAAABAAAAnmF2YzEAAAAAAAAAAQAAAAAAAAAAAAAAAAAAAAABQADwAEgAAABIAAAAAAAAAAEUTGF2YzYxLjMuMTAwIGxpYngyNjQAAAAAAAAAAAAAAAAY//8AAAA0YXZjQwFkABX/4QAXZ2QAFazZQUH6EAAAAwAQAAAHgPFi2WABAAZo6+GyyLD9+PgAAAAAFGJ0cnQAAAAAAAA1/wAANf8AAAAYc3R0cwAAAAAAAAABAAAA5QAAAQAAAAAUc3RzcwAAAAAAAAABAAAAAQAABzhjdHRzAAAAAAAAAOUAAAABAAACAAAAAAEAAAUAAAAAAQAAAgAAAAABAAAAAAAAAAEAAAEAAAAAAQAABQAAAAABAAACAAAAAAEAAAAAAAAAAQAAAQAAAAABAAAFAAAAAAEAAAIAAAAAAQAAAAAAAAABAAABAAAAAAEAAAUAAAAAAQAAAgAAAAABAAAAAAAAAAEAAAEAAAAAAQAABQAAAAABAAACAAAAAAEAAAAAAAAAAQAAAQAAAAABAAAFAAAAAAEAAAIAAAAAAQAAAAAAAAABAAABAAAAAAEAAAUAAAAAAQAAAgAAAAABAAAAAAAAAAEAAAEAAAAAAQAABQAAAAABAAACAAAAAAEAAAAAAAAAAQAAAQAAAAABAAAFAAAAAAEAAAIAAAAAAQAAAAAAAAABAAABAAAAAAEAAAUAAAAAAQAAAgAAAAABAAAAAAAAAAEAAAEAAAAAAQAABQAAAAABAAACAAAAAAEAAAAAAAAAAQAAAQAAAAABAAAFAAAAAAEAAAIAAAAAAQAAAAAAAAABAAABAAAAAAEAAAUAAAAAAQAAAgAAAAABAAAAAAAAAAEAAAEAAAAAAQAABQAAAAABAAACAAAAAAEAAAAAAAAAAQAAAQAAAAABAAAFAAAAAAEAAAIAAAAAAQAAAAAAAAABAAABAAAAAAEAAAUAAAAAAQAAAgAAAAABAAAAAAAAAAEAAAEAAAAAAQAABQAAAAABAAACAAAAAAEAAAAAAAAAAQAAAQAAAAABAAAFAAAAAAEAAAIAAAAAAQAAAAAAAAABAAABAAAAAAEAAAUAAAAAAQAAAgAAAAABAAAAAAAAAAEAAAEAAAAAAQAABQAAAAABAAACAAAAAAEAAAAAAAAAAQAAAQAAAAABAAAFAAAAAAEAAAIAAAAAAQAAAAAAAAABAAABAAAAAAEAAAUAAAAAAQAAAgAAAAABAAAAAAAAAAEAAAEAAAAAAQAABQAAAAABAAACAAAAAAEAAAAAAAAAAQAAAQAAAAABAAAFAAAAAAEAAAIAAAAAAQAAAAAAAAABAAABAAAAAAEAAAUAAAAAAQAAAgAAAAABAAAAAAAAAAEAAAEAAAAAAQAABQAAAAABAAACAAAAAAEAAAAAAAAAAQAAAQAAAAABAAAFAAAAAAEAAAIAAAAAAQAAAAAAAAABAAABAAAAAAEAAAUAAAAAAQAAAgAAAAABAAAAAAAAAAEAAAEAAAAAAQAABQAAAAABAAACAAAAAAEAAAAAAAAAAQAAAQAAAAABAAAFAAAAAAEAAAIAAAAAAQAAAAAAAAABAAABAAAAAAEAAAUAAAAAAQAAAgAAAAABAAAAAAAAAAEAAAEAAAAAAQAABQAAAAABAAACAAAAAAEAAAAAAAAAAQAAAQAAAAABAAAFAAAAAAEAAAIAAAAAAQAAAAAAAAABAAABAAAAAAEAAAUAAAAAAQAAAgAAAAABAAAAAAAAAAEAAAEAAAAAAQAABQAAAAABAAACAAAAAAEAAAAAAAAAAQAAAQAAAAABAAAFAAAAAAEAAAIAAAAAAQAAAAAAAAABAAABAAAAAAEAAAUAAAAAAQAAAgAAAAABAAAAAAAAAAEAAAEAAAAAAQAABQAAAAABAAACAAAAAAEAAAAAAAAAAQAAAQAAAAABAAAFAAAAAAEAAAIAAAAAAQAAAAAAAAABAAABAAAAAAEAAAUAAAAAAQAAAgAAAAABAAAAAAAAAAEAAAEAAAAAAQAABQAAAAABAAACAAAAAAEAAAAAAAAAAQAAAQAAAAABAAAFAAAAAAEAAAIAAAAAAQAAAAAAAAABAAABAAAAAAEAAAUAAAAAAQAAAgAAAAABAAAAAAAAAAEAAAEAAAAAAQAABQAAAAABAAACAAAAAAEAAAAAAAAAAQAAAQAAAAABAAAFAAAAAAEAAAIAAAAAAQAAAAAAAAABAAABAAAAAAEAAAUAAAAAAQAAAgAAAAABAAAAAAAAAAEAAAEAAAAAAQAABQAAAAABAAACAAAAAAEAAAAAAAAAAQAAAQAAAAABAAAFAAAAAAEAAAIAAAAAAQAAAAAAAAABAAABAAAAAAEAAAUAAAAAAQAAAgAAAAABAAAAAAAAAAEAAAEAAAAAAQAABQAAAAABAAACAAAAAAEAAAAAAAAAAQAAAQAAAAABAAAFAAAAAAEAAAIAAAAAAQAAAAAAAAABAAABAAAAAAEAAAUAAAAAAQAAAgAAAAABAAAAAAAAAAEAAAEAAAAAAQAABQAAAAABAAACAAAAAAEAAAAAAAAAAQAAAQAAAAABAAAFAAAAAAEAAAIAAAAAAQAAAAAAAAABAAABAAAAAAEAAAUAAAAAAQAAAgAAAAABAAAAAAAAAAEAAAEAAAAAAQAABQAAAAABAAACAAAAAAEAAAAAAAAAAQAAAQAAAAABAAAFAAAAAAEAAAIAAAAAAQAAAAAAAAABAAABAAAAABxzdHNjAAAAAAAAAAEAAAABAAAA5QAAAAEAAAOoc3RzegAAAAAAAAAAAAAA5QAAC3QAAAAVAAAAEAAAABAAAAAQAAAAGAAAABIAAAAQAAAAEAAAABQAAAASAAAADQAAAA0AAAAUAAAAEgAAAA0AAAANAAAAFAAAABIAAAANAAAADQAAABQAAAASAAAADQAAAA0AAAAUAAAAEgAAAA0AAAANAAAAFAAAABIAAAANAAAADQAAABQAAAASAAAADQAAAA0AAAAUAAAAEgAAAA0AAAANAAAAFAAAABIAAAANAAAADQAAABQAAAASAAAADQAAAA0AAAAUAAAAEgAAAA0AAAANAAAAFAAAABIAAAANAAAADQAAABQAAAASAAAADQAAAA0AAAAUAAAAEgAAAA0AAAANAAAAFAAAABIAAAANAAAADQAAABQAAAASAAAADQAAAA0AAAAUAAAAEgAAAA0AAAANAAAAFAAAABIAAAANAAAADQAAABQAAAASAAAADQAAAA0AAAAUAAAAEgAAAA0AAAANAAAAFAAAABIAAAANAAAADQAAABQAAAASAAAADQAAAA0AAAAUAAAAEgAAAA0AAAANAAAAFAAAABIAAAANAAAADQAAABQAAAASAAAADQAAAA0AAAAUAAAAEgAAAA0AAAANAAAAFAAAABIAAAANAAAADQAAABQAAAASAAAADQAAAA0AAAAUAAAAEgAAAA0AAAANAAAAFAAAABIAAAANAAAADQAAABQAAAASAAAADQAAAA0AAAAUAAAAEgAAAA0AAAANAAAAFAAAABIAAAANAAAADQAAABQAAAASAAAADQAAAA0AAAAUAAAAEgAAAA0AAAANAAAAFAAAABIAAAANAAAADQAAABQAAAASAAAADQAAAA0AAAAUAAAAEgAAAA0AAAANAAAAFAAAABIAAAANAAAADQAAABQAAAASAAAADQAAAA0AAAAUAAAAEgAAAA0AAAANAAAAFAAAABIAAAANAAAADQAAABQAAAASAAAADQAAAA0AAAAUAAAAEgAAAA0AAAANAAAAFAAAABIAAAANAAAADQAAABQAAAASAAAADQAAAA0AAAAUAAAAEgAAAA0AAAANAAAAFAAAABIAAAANAAAADQAAABQAAAASAAAADQAAAA0AAAAUAAAAEgAAAA0AAAANAAAAFAAAABIAAAANAAAADQAAABQAAAASAAAADQAAAA0AAAAUAAAAEgAAAA0AAAANAAAAFAAAABIAAAANAAAADQAAABQAAAASAAAADQAAAA0AAAAUc3RjbwAAAAAAAAABAAAAMAAAAGF1ZHRhAAAAWW1ldGEAAAAAAAAAIWhkbHIAAAAAAAAAAG1kaXJhcHBsAAAAAAAAAAAAAAAALGlsc3QAAAAkqXRvbwAAABxkYXRhAAAAAQAAAABMYXZmNjEuMS4xMDA=\" type=\"video/mp4\"/>\n",
       "      This browser does not support the video tag.\n",
       "      </video></td></tr></table>"
      ],
      "text/plain": [
       "<IPython.core.display.HTML object>"
      ]
     },
     "metadata": {},
     "output_type": "display_data"
    }
   ],
   "source": [
    "duration = 3.8  # (seconds)\n",
    "framerate = 60  # (Hz)\n",
    "\n",
    "# Simulate and display video.\n",
    "frames = []\n",
    "mujoco.mj_resetData(model, data)  # Reset state and time.\n",
    "while data.time < duration:\n",
    "  mujoco.mj_step(model, data)\n",
    "  if len(frames) < data.time * framerate:\n",
    "    renderer.update_scene(data)\n",
    "    pixels = renderer.render()\n",
    "    frames.append(pixels)\n",
    "media.show_video(frames, fps=framerate)"
   ]
  },
  {
   "cell_type": "markdown",
   "metadata": {
    "id": "-P95E-QHizQq"
   },
   "source": [
    "But isn't anything moving?"
   ]
  }
 ],
 "metadata": {
  "accelerator": "GPU",
  "colab": {
   "collapsed_sections": [
    "-re3Szx-1Ias"
   ],
   "private_outputs": true,
   "provenance": [],
   "toc_visible": true
  },
  "gpuClass": "premium",
  "kernelspec": {
   "display_name": "Python 3 (ipykernel)",
   "language": "python",
   "name": "python3"
  },
  "language_info": {
   "codemirror_mode": {
    "name": "ipython",
    "version": 3
   },
   "file_extension": ".py",
   "mimetype": "text/x-python",
   "name": "python",
   "nbconvert_exporter": "python",
   "pygments_lexer": "ipython3",
   "version": "3.11.9"
  }
 },
 "nbformat": 4,
 "nbformat_minor": 4
}
