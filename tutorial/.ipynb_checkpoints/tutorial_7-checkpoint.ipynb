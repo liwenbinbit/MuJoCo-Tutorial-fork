{
 "cells": [
  {
   "cell_type": "markdown",
   "metadata": {
    "id": "t0CF6Gvkt_Cw"
   },
   "source": [
    "# MuJoCo basics\n",
    "\n",
    "We begin by defining and loading a simple model:"
   ]
  },
  {
   "cell_type": "code",
   "execution_count": 1,
   "metadata": {},
   "outputs": [],
   "source": [
    "import mujoco\n",
    "import mediapy as media\n",
    "import matplotlib.pyplot as plt\n",
    "\n",
    "import time\n",
    "import itertools\n",
    "import numpy as np"
   ]
  },
  {
   "cell_type": "markdown",
   "metadata": {
    "id": "1kOs1wTc7uCZ"
   },
   "source": [
    "# Advanced rendering\n",
    "\n",
    "Like joint visualization, additional rendering options are exposed as parameters to the `render` method.\n",
    "\n",
    "Let's bring back our first model:"
   ]
  },
  {
   "cell_type": "code",
   "execution_count": 2,
   "metadata": {
    "id": "mTDgsk2xcgwH"
   },
   "outputs": [
    {
     "data": {
      "text/html": [
       "<table class=\"show_images\" style=\"border-spacing:0px;\"><tr><td style=\"padding:1px;\"><img width=\"320\" height=\"240\" style=\"image-rendering:auto; object-fit:cover;\" src=\"data:image/png;base64,iVBORw0KGgoAAAANSUhEUgAAAUAAAADwCAIAAAD+Tyo8AAAaD0lEQVR4nO2dfcws113fP+fMPvf6JUlvU2GS+uXa95L2H1NBguNrJ8HFDqgFCYFU1PaPSmBSAg1ODOLP/otKRWneBCgtVVqpVpOWxuGlBbVpS4Ia+7ouUDAkpsbvCSGYamM7vvfZ3Tm//jF75jm7Mzs7+z777Pej1Wr2PLO7M/PsZ3+/8ztnZkEIIYQQQgghhBBCCCGEEEIIIYQQQgghhBBCCCGEEEIIIYQQQgghhBBCCCGEEEIIIYQQQgghhBBCCCGEEEIIIYQQQgghhBBCCCGEEEIIIYQQQgghhBBCCCGEEEIIIYQQQgghhBBCCCGEEEIIIYQQU7hdb4CYzw/BD8L/gY/D7+56Y7bHTeCTh0P4051tS2eRwF3nfrg/Lhf/rd+DfwW/s6sN2hy3wkV4C3wTODgCBwYGOTh4DZ6DV+DzcAxf2fUGdwAJ3Gl+Hr41+Se55B74XfiXAPzvbW/XuvkuuA/OAXAGemBxPwMYADnkMIQBDOFVeBL+J7y4q43uBBK4o7wVfmG2ulMPfwc+BsDjW9q69fGd8D1wLVwLvRh1yxuQQ4AAwAhGkMMArsAxjOAP4bfhS7vciR0igbvIP4QficsN6lYbC4F/Ef7XxrdxZe6F74dr4SycgSM4A4BP7LVob3HLo8CFw1djNP4afBEeOcROsgTuHO+N9rZXt9pemPzz8NimNnMFboIfgjfBG2PULQQm2kvs/TJpb5lFh5hLD+AYBvAKvAL/4eBCsQTuFj8K752XMM96WGu1wWPw0e6YfA98P1wP18HrwcNZcNCDDEhir4sdYJsUeBQ1HsIxDGEEV+BVuAKfhcu73L8tI4E7xI/BjwHLulq7giX3j8FHdvvx/nb4+3AG3hA7vYW3PfCT4TfEr5+QCBySIFx4W8ThYuEVuAqvwR/Ab+xwJ7eKBO4K/xq+rTFhbv5T9aFFb5nUGLgMH44L2+Nd8H3wV2K/9xq4BjxkkMWNznDFTsQtduYsGDkW7KQDXBibx/sikb4KV2AAL8NvnYLSfCsk8O65A/5NO0ur9w2eT0lbbTG4DJfhkS2Y/C74HvgGeD2cgeti8lzGXg8O59z43gBccGYn9lpu4zg8qtyuxs7wa3AFXobfPohZLxJ4x/w4PAC0NpYW9k4F3jYLl8HgQ/Do0nvSwLfA34U3wDm4Hs5EdY/iuFFhrx/b6wqPgYAFs9wI2MhOgnB6P6gUtIr+8MvwOfjDTexPh+jtegMOmgfggcrA5/btBe4C4G4weBQ+uEaT3wx/C14H18FZOAtH4E+GfF3PpfZ6533mxwO/npCH3PJiGYMsufexq1zG8CMwGMIRXANvk8BiYzwA75+0t73J67V3auEdcDcAj8A/X93kd8A3RnXPRtOy2OMtcuasENd777MsMzOXOeecjaxIpwOBDBecYTZOr+PNj1+KXvQ5gyM4C6+DvwG/v+IOdBoJvBsegjtn29vG5A3ZWy4b3A13gcEj8EFgCZnfBn8NzsA1MTwmVatx1MUBWZb1jnrOO4cb59HmAoEhlpkzl+e5OcPjnDMXNzZ1uFDXJ29xFr4VXoOnFt3uvUECb5s74aF26qY3n8wOri04F8zVss1fScZfqyZ/KFa/WvFOeB2ciSG3V1HOY1gv63nvMYownGWZc85yM7NxTQvKfrE5c7hCZkZJBB7FL4hS4KP43XF6kcBb5f3wgcXtnfrMsyZ7GxpdxeHidhdciv1kgw83m/zN8JfhWvBwJn4JlW/mxmtlWYbhcMV7OHMEXOaCBWfOe08gd7lzDg855qx87skXW5h86GM0PoJvhicatnK/kcDb4wMr2Dsruy5pH13nmmyzHS4bi4B8KUbjepP/ZpwgWXzKsuRLyADMzNl4xCiE4Jzz5ouFfJiHPOQhdzjvfFmmtp4FQp7n42hsNp5omSpdfuH5WPH+6/DkvH/PfiKBt8SDK9ubzlNKBa4NwizbmN6qLbViX4I7Y1j+SDln8y1x7aP4BB9P0DfIYyU5EELwzgcLPvOWm3nLQ27BQgiZz3q9XrAQfMh6mTMXfMBzdXC1KGUFF8Y1LUt2w8VZmUXjEVyUwGIFHoQHF9eV1hG4FHsVk6uu1jY2tN8VTb4M/+BGuD6Z3lw8LSQvkY87txghD957HPkoLyXPfHaUHfWy3igf+Z7PepkF88EfXznOfBZcMG/jeVo2uW9pRl0cqWvgHPRb/bP2Cwm8cT4Jl1Z2da696XKtyc0Zda2QtVl0Q3v5p0vAm8DFz1cOBsPYRzUIcRQ36Q8HCy5zBLz3R9nRUe+o1+s5c2fPnCWQkRUTOYZumPnMMAIu3ftys/IoMHEbvAQWi3MJPrmyrn7yIbPtTR9OtTPP5FohQ2LcVHvMf6fbAQ+PfkM8uXcE105G4Hwcll3uit2zkbmeI8dlrqgq97Jez/fOHp3tZT2PN7PMZQ7nzF159UrmMu+8dz4QxrqSnHVYbkf5jZLHq3ycRk7pbnWAn4CfBBZJmP281WhUtJmGJ84SlcYUmsmASlJmvnwuztkoVx3FSBj31jJzwRV9Y5c7c2Y2HuZ15jw+jAIOl7me63l85rOQh57veeddcKWrxXyP8VdDuSkh0Thf6njtCRJ4IxT2pvF2rpxtcuYNfQhnhdlqe6isX9ty+Rsnr56RU4wA4aEXr1BnjId5M1dMvSrOW3DOueBsZM67MAqZZebMMAuWD/N8kNvQnDlybGQ2svHrp2cdlrGXJEs/t5ljt2sk8Pp5EH6iMQ1ezt6N4mKe22BpbWNVcoArcAQ5HMO1MIIzMXkexOw6zmo2rIi/uBhOPc45chwuWAC894aFYQijYLnZyIozk1wYn2w4vqVbNow+E+d7nEYk8Jr5JNzVukPbBXVTireba2lDY/Eij14fY6CDUbwCTnnuwSj2S2OWa7nhMWdZlrnMWW7mLFiwIzPGwdnMbGiMKKOuDY0QHYaJLLqYlTWILcDrt3gct4gEXhuX4MHGgrOfvKdL6pYUb90Qcmn0eTyl4gy8CtfF0/3SC24UOmVRaeIcSQce7zyj8RxpHGEYvPcWzLwVCXYYheLEYBuaw1kY16Itt3F3N83bi60pGrOtHsatcUoTi63zAfh3jbG32pUtJ+36ym3nBZepjSm/gBra04c/+TwQL3xj8WTdUbySxigRbBivqpHDCJc7HzwjbGg2NDu2cBzCINjALLfh1WE4DvkgL6pfllvxmja0ict0lFfqCMlF8P5ix4d0QygCr4H3z5unQXLfEJw7Rbk9s1Llagm6HNx1Obwar7wxihWsQYzALhaHM/CxHO3xmXcj55yzYNaz4WBYhu5gwXIbjUaj49HoeDS8OgyDcWc4DMLY3lFirCWDz0U32KZ38HTQtY/N/lHYO5Ue1+bMDfc7zJmbqR1GmvI5XSjHYt/0vfBGuB7eANfFkdhrkqvYHU0mIcbR2SPvfa/Xc8457zKfZT7LXIaRZZmNbHA8OL5yPDwehlGwoVkwO7ZxEau4KEdIfrphCK/FC3RcgWdP54nBisArURt7aZ1Fpyt3E1d5WI3DIVnTxZafepJ/9lY4C8fx5D4PV+EskPSE/TgUO+fyqzk9RsOR887MjnpHOXmWZc7cyI3CKAyuDgp7CYwFLkeAp7q+eVKFLr5U/t82Dtf2kcDL81ClZMWCWTQdVrdkagurUzjKfcmTnfqpJ7Ejfu6O5DnFLzCku13WlnpYZmZmA3POuZ4jYJllLhu5kTPncPkoHw1GlsdLZA2tqGCdXB8rxA72ILncbCHwAL622aO0KyTwMrwdHqpkvy3LV7Xrd59iI8uxoXQ+lkusDsk6d/8ZP3eV8Wn3V5NgbcmJu714Ln5v/B7mzYaGI1gYMnTBlROei05v4eTJ8G9aFRsl1bIyIA/gJXhlq4dra6gKvTAPtLikRsmsqLsv4begukfpw2pLcf+OP+eXP8NdLyYXbR7GC0dWr8w+iO3HyWqDk3J0cSueaEMbrz+Ig73l09P+cHot+FPKvnyEusKPw/vr6k9+Ru1qVk0rfbgX1E6NrlawqvcB/s5388gtkMW6dDb5cypFFh0nZo3PMSwpx3Id4wtE57HInCfJ8yB2esvBquJ2Fb4Oj5/OU5GQwAtRXMO56mqDnG1W2xdmlaBDnc9Tyz/wt3nkZjiT/BBhObvjKDkQ5WQPF09XKrvXxB9nIL7oaFLjUdIfHsYfHx3Ai/B7uzliW2CPPj875n3xKrALyTm3fY/+AWUQbvC2YWDp82/ig9/Go+djBM7iGFIWL1hZZjKWHJr0a4Dk5fLJW/mLZ/lkEH4NLsPLOztom2aPPj874w54H9xZGb9dwtVq7r1f/4D23ta2B/jQW/nQHYnDWTxFKbXXJ/MuyoW88qKFq8exJZ3dVf5gUh8e2cmh2hL79fnZAXfAx2eo2zB5o43Ve9QBLmnvbcMKn38zj76Zj9wZZ3S4kxJ0Oanj5NCU+TpR2iIUX4mrDWMnuRz4HUWxX4WnTvkvBkvgJn4U3tdC3ZYOTxWuivv9+gfM1bW92AaP/FU+egeP3ZjMxyoPU2ls0ZKm48Qw62AYt6ysZhX2vgbH8OVTey27kv36/GyV98I/ahd7lwjIxXHfuxR6FV1rn/JF+N77k6PWG9ei42lN0V4X51SnNbTRZHae9n6vwp/BH+z4cG0BTeSo573xt7ZXwU0u7J2us6j2T5d4bsE/viGe5FB8EQ4mz/srjleYPHDVr4F07mRRf34Nnl584/YQCVzDx+COSuOi7lXtTbGkyLovVrfU1eqWre7hzwIBXolTLIsInF49o1jPxbGlsrFYTivS5SDwEK7AU/D1RfdvL5HAE7wVPrbW2lLVXqu07BdVJ6daXDJjcmrN9OGvFP3TwjqS8lU6hpQMC4+fmb56SBLpUdL7fQa+ut6d7i4S+IT3wI/UtS8nm1XuXSXe7lH4LWgIws26Tj38IvwqAF87F+dUZsmsrLKuEBJ1rdIHTgeEr8aB32fhK+vY1T1BAo/5YXhPpXGuXWlgqN6XpCVVkk/zftmbUqtlQ/vUw18pm/LY7w0np/jXlPumXiud4ZxHdV+FF07tlTdmIYEB7q/Y26xWaWltRJ26LwnJx7Jcv83bdYS5lja3l3w6HdwpBS5uefwh0nI02E0G4RBPIU4rz8fwInx5Tfu5V0hg7ocfBmZUm5gRVKt/pWJvqOtOlxozGZA77vBUj3cJe8vk+ST8Eod8erGCVZxa6KLGrvIlV5adyxOAr8BX4M/Xspf7x6EL/GF427woyuRfqQTY2sYwOSNwiqrGXcYSdWkRYxtW+JnJNf/Sy3AuTsk6E2dlEad2TBWfXax4DeNZhF+Bl5berdPA4Qr8LfCRuDyr41qbDzc/TANGQ8mnoLycRWdNTtW1yq1cJ11osPefVF7/3BXO/ynPvRHOwDDpAxcxOcTucXGI81hw/irkB9fdreVwBb4BHoO3x4dzRW1jb3WhJVMmd4SqsbU3JheYsfAwfLHuXc6/zPmX6Z/l+ddBRr84z6E3OSbs4DX4OuSn9uI4y3G4An8ZHofH4Ua4E26qxOGGh+u1NyW9xNQOmetqg8PULfwRPNz4jueOOXdMvzzx/kxyHAfr2alTyeEK/ATcDsCX4FNwI1yCm1unypuwN2VXDrfRtdZeJluYXPj0otshadtxuAJP8SX4jwDcBHfDLUvZy4zK83Js3+GFEuY2axYrPwxfaLcByo4XpVN9rm3zRF3ji/Dv4ZPwwowIU/tw6VtIbrMc2DTVLWnYpDbrpLcvwKdab4kEXhRF4HpegE/AzfBOON8u9pY0B2GLvdypSR3MNnYNodjVv8bEF5BZm++juStMrfnTi2xmf9n9O1h2Xi7ZMX+v3Wq3wLfDrZMz/KaujDN1K+V0M9an8elTazL5r6r5tzmH2SxRC6pfEPVCmq1ibPrwp1snz0D/dP74yWZRBG7F8/Bv4TzcA7cCLYpV1XpymGFmM+W7nKw/eeXVqXZLGmcZmy7XSOhcVeM2uk6t8KlF7BXLcegR+PZYi16Ie+BCDMibu1HcR1tnReA5kXmSKYFbBdi61Lr2WWnjH9VN22jmOXhuwacIReBl+Cx8Fm6F74Db1vrKBi4GWLe4tNVlq7Tb5P38AOscdal1s8YPL77vqmAtwaELvMqJ38/Cx6PGFxZ/uk2FXOdcYl1ZLStZZZnE5Dbxs36FIrWeNLl2zYdnTLoSa0cCr8qz8HEAboN760yeFjVNkutqTpZoti6B0+8F2vVgaxuJMbkhu/7CEtM2AJWgl+LQ+8As2w2exW1wX9R4Zv82BtuZ/d7JBSr/p5bSpt8C1YDcRuNqS/1qSUz+wXYHaoq+StBLcegReO08A78Et8EFuC/9Q+MAT0Eae2lh5tRyukJqb9rpnXpYdZIWutY0xn7yz1h1c8QGkcAbuf7ZM/AM/LdCY+cuNq6c5tizzGwuNbu6AEtFYzd5uTlLVrbJxgXS6eT2abOlu77PL/vEA0cCb/YChk/D02YX4N2TGk91jK0iYTXkWtJYzYrTbHmqr5s+fcrSqXui4Szu8BemLrUhtoL6wLDubnADF+A7nbtY1+9tqDlRMbZh4WR5+pd2YdxXnaNxQzRmtsP/1GyVnzH53ArPPWQUgbfK0/Axs0LjbwKSwJiOG836Wq0NrScL0dip1dKnF0NBRJNZROZah4nJ8yr29ld47oEjgWHrlwEvNf4u5y5OJrcF1pgME4eg2qw2M3OOZSdWi8mWXORZbB+l0GNantWwCS7Cu2NAZkZPuBw0nvnXGQtMFqtm3pu1WS1dp7y9Z+XK8+8rCC+LIvCYJ7bVDa7yJ/AnMa++WAbPGCFnxdjmv07Fc+ZqvGxq/bMaN9opErgrlHn1BecuwoWG5Lk5ta7k5FX9ahvT1JpkilXD/a+u1vUt6a/jRQ4TCTymI7+GVQw7fQYumL3buQt1dan5odi5AG6ehA1/sljALl4jHVsqvxqehF9bwx7L3pWQwGM6InDJ0/AvzC6Y3efcxUo6TcXYavIcJiVcTOBynfJFGJe7yqkgv6bkuQNI4BO+CjfsehumKAIyZsWMrgtFHavR55ITS4v1GzW2hqdPvk7R8utmf7zarpV8bU2vc5hI4BM6KHBJYfJthcazQ3Ga4k6H2WTcyOa62rjwx2b/aX3hVwKvgoaRTrgB7t31NrThNufuc+62ZKJV7UToWWE2Xac6etRm4X2h7BSvAY0hrYIi8Ald6wbP4hmzXzIjMbladq6mxNQKmXZxi4XJYaTqwofXai+ydzUUgSe4t8NZ9Cxuc+7eqDEzxpAaFuasMOnzfzb7jbXWrvo6DXg1JPAEWzurYRN8h/e3OndrfLhEbty88H/NPrru8PucLmS3GkqhJ9iXLLqW/xECcKtz93h/6+QYEuvQeL2xt0AVrBWRwBPstcAFz5o9m+fnnbvH+/POURafgRV8/s0QntLAb/dQCj3NPnaDGzjv3LsKkxt7uc32PmX2C+tOngt0GvCKKAJP0+XR4CV4zuy5PL/FuXd5f0utxrH6xWyfN2RvfxMvemBI4IPgebOH8vwW52527p3e0xByp3yGX8zzbW2mWBil0DXs8Nzg7XCzc+/w/uaKq9WF/xLCf91M+EVTONbBQf8+8CxOQSmrmRfMPpHnn8jz580s+Y3fqYWnzDZnr1gLSqFrOGXd4Fm8YPZCngM3OXfJ+5sqs7I2bW9/o69+GEhgwYtmv5znNzn39kTjz4Tw9CbHjfqbe+lDQgLXsMPL6+yQF81ezPMbnXu798fwGSXP+4CKWPWcstHgRXkJBht+C02iXAsqYtVz6utYO0eTKNeCBBY7oK8+8JqQwPU8sesNON3op8zWhQSeySFn0RvtAD+n8Ls+JPBMDlngjaLa1RqRwGKr6Pob60UCz0Td4LXTV/K8biSwmOZ4Y6+s2tXakcBNKAivEdWuNoEEFtugr9rVZpDATSgCrwslzxtCAotp1j4I3FfyvDEk8BwUhFdH4XdzSGCxWVS72igSeA4HGIHXOIzUV+1qw0hgsUGUPG8aCTyfAwzCa6Gv5HnzSGCxKRR+t4AEns+hnZa0lmEk1a62gwSez6EJvDp91a62hQRuhbrBC6HkeWtIYLFm+kqet4gEbsXhZNGrDwIr/G4TCdyKwxF4RVS72jISuC3/XRrPo6/a1dbRLzMsxg1w+6n+0YZj+Itln6ufC90+EngZTrHGr8ArSz2xrwvW7QIJvDynUuOlBVb43QkSeFVOmcbLCaxfKtsVEng9nBqNl/hdwr6S590hgdfJKdB4CYGVPO8QCbx+9lrjRQXuK/zuFAm8KfZU40UFVvjdLRJ4s+ydxl9eZGXVrnaOBN4Ge6Rxe4H7Sp47gATeHnuhcXuBlTx3AQm8bTqucUuB+wq/3UAC74Zuatx+IrTCb0eQwLvkdrh919uQ0lJg1a66gwTePd3RuI3AfSXPXUICd4UuaNxGYCXPnUICd4vdajz3TIa+wm/HkMBdZFcazxX4c1vaENEWCdxdtq9xs8CqXXUQCdx1tqlxw0TovpLnTqKL2nWdJ7pxPT1dLLabKALvDVuY+zErAvcVfruKBN4zNqrxLIFVu+osEngv2ZDGtROhVbvqMhJ4j1m7xlWB+0qeu40E3nvWqHFVYM276jgS+JSwusbVeZR9hd/OI4FPFatoXBVYtavuI4FPIctpPCWwald7gQQ+tSyqcSpwX8nzniCBTzntNU4FVu1qX5DAB0EbjcszGfoKv/uDBD4gmjUuBVbtao+QwAfHLI0LgVW72i8k8IFS1fgl+KqS531DAh80qcYvweOqXQmxd9wA98Jbdr0ZQgghhBBCCCGEEEIIIYQQQgghhBBCCCGEEEIIIYQQQgghhBBCCCGEEEIIIYQQQgghhBBCCCGEEEIIIYQQQgghhBBCCCGEEEIIIYQQQgghhBBCCCGEEEIIIYQQQgghhBDikPj/yiq5IGUI5lgAAAAASUVORK5CYII=\"/></td></tr></table>"
      ],
      "text/plain": [
       "<IPython.core.display.HTML object>"
      ]
     },
     "metadata": {},
     "output_type": "display_data"
    }
   ],
   "source": [
    "xml = \"\"\"\n",
    "<mujoco>\n",
    "  <worldbody>\n",
    "    <light name=\"top\" pos=\"0 0 1\"/>\n",
    "    <body name=\"box_and_sphere\" euler=\"0 0 -30\">\n",
    "      <joint name=\"swing\" type=\"hinge\" axis=\"1 -1 0\" pos=\"-.2 -.2 -.2\"/>\n",
    "      <geom name=\"red_box\" type=\"box\" size=\".2 .2 .2\" rgba=\"1 0 0 1\"/>\n",
    "      <geom name=\"green_sphere\" pos=\".2 .2 .2\" size=\".1\" rgba=\"0 1 0 1\"/>\n",
    "    </body>\n",
    "  </worldbody>\n",
    "</mujoco>\n",
    "\"\"\"\n",
    "model = mujoco.MjModel.from_xml_string(xml)\n",
    "renderer = mujoco.Renderer(model)\n",
    "data = mujoco.MjData(model)\n",
    "\n",
    "mujoco.mj_forward(model, data)\n",
    "renderer.update_scene(data)\n",
    "media.show_image(renderer.render())"
   ]
  },
  {
   "cell_type": "code",
   "execution_count": 4,
   "metadata": {
    "id": "VePXamL_6XUc"
   },
   "outputs": [
    {
     "data": {
      "text/html": [
       "<table class=\"show_images\" style=\"border-spacing:0px;\"><tr><td style=\"padding:1px;\"><img width=\"320\" height=\"240\" style=\"image-rendering:auto; object-fit:cover;\" src=\"data:image/png;base64,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\"/></td></tr></table>"
      ],
      "text/plain": [
       "<IPython.core.display.HTML object>"
      ]
     },
     "metadata": {},
     "output_type": "display_data"
    }
   ],
   "source": [
    "#@title Enable transparency and frame visualization\n",
    "\n",
    "# enable joint visualization option:\n",
    "scene_option = mujoco.MjvOption()\n",
    "scene_option.flags[mujoco.mjtVisFlag.mjVIS_JOINT] = True\n",
    "scene_option.frame = mujoco.mjtFrame.mjFRAME_GEOM\n",
    "scene_option.flags[mujoco.mjtVisFlag.mjVIS_TRANSPARENT] = True\n",
    "renderer.update_scene(data, scene_option=scene_option)\n",
    "frame = renderer.render()\n",
    "media.show_image(frame)"
   ]
  },
  {
   "cell_type": "code",
   "execution_count": null,
   "metadata": {
    "id": "PVcpcvww9lZ8"
   },
   "outputs": [],
   "source": [
    "#@title Depth rendering\n",
    "\n",
    "# update renderer to render depth\n",
    "renderer.enable_depth_rendering()\n",
    "\n",
    "# reset the scene\n",
    "renderer.update_scene(data)\n",
    "\n",
    "# depth is a float array, in meters.\n",
    "depth = renderer.render()\n",
    "\n",
    "# Shift nearest values to the origin.\n",
    "depth -= depth.min()\n",
    "# Scale by 2 mean distances of near rays.\n",
    "depth /= 2*depth[depth <= 1].mean()\n",
    "# Scale to [0, 255]\n",
    "pixels = 255*np.clip(depth, 0, 1)\n",
    "\n",
    "media.show_image(pixels.astype(np.uint8))\n",
    "\n",
    "renderer.disable_depth_rendering()"
   ]
  },
  {
   "cell_type": "code",
   "execution_count": null,
   "metadata": {
    "id": "PNwiIrgpx7T8"
   },
   "outputs": [],
   "source": [
    "#@title Segmentation rendering\n",
    "\n",
    "# update renderer to render segmentation\n",
    "renderer.enable_segmentation_rendering()\n",
    "\n",
    "# reset the scene\n",
    "renderer.update_scene(data)\n",
    "\n",
    "seg = renderer.render()\n",
    "\n",
    "# Display the contents of the first channel, which contains object\n",
    "# IDs. The second channel, seg[:, :, 1], contains object types.\n",
    "geom_ids = seg[:, :, 0]\n",
    "# Infinity is mapped to -1\n",
    "geom_ids = geom_ids.astype(np.float64) + 1\n",
    "# Scale to [0, 1]\n",
    "geom_ids = geom_ids / geom_ids.max()\n",
    "pixels = 255*geom_ids\n",
    "media.show_image(pixels.astype(np.uint8))\n",
    "\n",
    "renderer.disable_segmentation_rendering()"
   ]
  },
  {
   "cell_type": "markdown",
   "metadata": {
    "id": "wo72mo0mGIXr"
   },
   "source": [
    "## The camera matrix\n",
    "\n",
    "For a description of the camera matrix see the article [Camera matrix](https://en.wikipedia.org/wiki/Camera_matrix) on Wikipedia."
   ]
  },
  {
   "cell_type": "code",
   "execution_count": null,
   "metadata": {
    "id": "sDYwClpxaxab"
   },
   "outputs": [],
   "source": [
    "def compute_camera_matrix(renderer, data):\n",
    "  \"\"\"Returns the 3x4 camera matrix.\"\"\"\n",
    "  # If the camera is a 'free' camera, we get its position and orientation\n",
    "  # from the scene data structure. It is a stereo camera, so we average over\n",
    "  # the left and right channels. Note: we call `self.update()` in order to\n",
    "  # ensure that the contents of `scene.camera` are correct.\n",
    "  renderer.update_scene(data)\n",
    "  pos = np.mean([camera.pos for camera in renderer.scene.camera], axis=0)\n",
    "  z = -np.mean([camera.forward for camera in renderer.scene.camera], axis=0)\n",
    "  y = np.mean([camera.up for camera in renderer.scene.camera], axis=0)\n",
    "  rot = np.vstack((np.cross(y, z), y, z))\n",
    "  fov = model.vis.global_.fovy\n",
    "\n",
    "  # Translation matrix (4x4).\n",
    "  translation = np.eye(4)\n",
    "  translation[0:3, 3] = -pos\n",
    "\n",
    "  # Rotation matrix (4x4).\n",
    "  rotation = np.eye(4)\n",
    "  rotation[0:3, 0:3] = rot\n",
    "\n",
    "  # Focal transformation matrix (3x4).\n",
    "  focal_scaling = (1./np.tan(np.deg2rad(fov)/2)) * renderer.height / 2.0\n",
    "  focal = np.diag([-focal_scaling, focal_scaling, 1.0, 0])[0:3, :]\n",
    "\n",
    "  # Image matrix (3x3).\n",
    "  image = np.eye(3)\n",
    "  image[0, 2] = (renderer.width - 1) / 2.0\n",
    "  image[1, 2] = (renderer.height - 1) / 2.0\n",
    "  return image @ focal @ rotation @ translation"
   ]
  },
  {
   "cell_type": "markdown",
   "metadata": {
    "id": "Bs89vS0wLoU0"
   },
   "source": [
    "Let's use the camera matrix to project from world to camera coordinates:"
   ]
  },
  {
   "cell_type": "code",
   "execution_count": null,
   "metadata": {
    "id": "My0N4_7PDJ_q"
   },
   "outputs": [],
   "source": [
    "# reset the scene\n",
    "renderer.update_scene(data)\n",
    "\n",
    "\n",
    "# Get the world coordinates of the box corners\n",
    "box_pos = data.geom_xpos[model.geom('red_box').id]\n",
    "box_mat = data.geom_xmat[model.geom('red_box').id].reshape(3, 3)\n",
    "box_size = model.geom_size[model.geom('red_box').id]\n",
    "offsets = np.array([-1, 1]) * box_size[:, None]\n",
    "xyz_local = np.stack(list(itertools.product(*offsets))).T\n",
    "xyz_global = box_pos[:, None] + box_mat @ xyz_local\n",
    "\n",
    "# Camera matrices multiply homogenous [x, y, z, 1] vectors.\n",
    "corners_homogeneous = np.ones((4, xyz_global.shape[1]), dtype=float)\n",
    "corners_homogeneous[:3, :] = xyz_global\n",
    "\n",
    "# Get the camera matrix.\n",
    "m = compute_camera_matrix(renderer, data)\n",
    "\n",
    "# Project world coordinates into pixel space. See:\n",
    "# https://en.wikipedia.org/wiki/3D_projection#Mathematical_formula\n",
    "xs, ys, s = m @ corners_homogeneous\n",
    "# x and y are in the pixel coordinate system.\n",
    "x = xs / s\n",
    "y = ys / s\n",
    "\n",
    "# Render the camera view and overlay the projected corner coordinates.\n",
    "pixels = renderer.render()\n",
    "fig, ax = plt.subplots(1, 1)\n",
    "ax.imshow(pixels)\n",
    "ax.plot(x, y, '+', c='w')\n",
    "ax.set_axis_off()"
   ]
  },
  {
   "cell_type": "markdown",
   "metadata": {
    "id": "AGm5-e0sHEAF"
   },
   "source": [
    "## Modifying the scene\n",
    "\n",
    "Let's add some arbitrary geometry to the `mjvScene`."
   ]
  },
  {
   "cell_type": "code",
   "execution_count": null,
   "metadata": {
    "id": "Z6NDYJ8IOVt7"
   },
   "outputs": [],
   "source": [
    "def get_geom_speed(model, data, geom_name):\n",
    "  \"\"\"Returns the speed of a geom.\"\"\"\n",
    "  geom_vel = np.zeros(6)\n",
    "  geom_type = mujoco.mjtObj.mjOBJ_GEOM\n",
    "  geom_id = data.geom(geom_name).id\n",
    "  mujoco.mj_objectVelocity(model, data, geom_type, geom_id, geom_vel, 0)\n",
    "  return np.linalg.norm(geom_vel)\n",
    "\n",
    "def add_visual_capsule(scene, point1, point2, radius, rgba):\n",
    "  \"\"\"Adds one capsule to an mjvScene.\"\"\"\n",
    "  if scene.ngeom >= scene.maxgeom:\n",
    "    return\n",
    "  scene.ngeom += 1  # increment ngeom\n",
    "  # initialise a new capsule, add it to the scene using mjv_makeConnector\n",
    "  mujoco.mjv_initGeom(scene.geoms[scene.ngeom-1],\n",
    "                      mujoco.mjtGeom.mjGEOM_CAPSULE, np.zeros(3),\n",
    "                      np.zeros(3), np.zeros(9), rgba.astype(np.float32))\n",
    "  mujoco.mjv_makeConnector(scene.geoms[scene.ngeom-1],\n",
    "                           mujoco.mjtGeom.mjGEOM_CAPSULE, radius,\n",
    "                           point1[0], point1[1], point1[2],\n",
    "                           point2[0], point2[1], point2[2])\n",
    "\n",
    " # traces of time, position and speed\n",
    "times = []\n",
    "positions = []\n",
    "speeds = []\n",
    "offset = model.jnt_axis[0]/8  # offset along the joint axis\n",
    "\n",
    "def modify_scene(scn):\n",
    "  \"\"\"Draw position trace, speed modifies width and colors.\"\"\"\n",
    "  if len(positions) > 1:\n",
    "    for i in range(len(positions)-1):\n",
    "      rgba=np.array((np.clip(speeds[i]/10, 0, 1),\n",
    "                     np.clip(1-speeds[i]/10, 0, 1),\n",
    "                     .5, 1.))\n",
    "      radius=.003*(1+speeds[i])\n",
    "      point1 = positions[i] + offset*times[i]\n",
    "      point2 = positions[i+1] + offset*times[i+1]\n",
    "      add_visual_capsule(scn, point1, point2, radius, rgba)\n",
    "\n",
    "duration = 6    # (seconds)\n",
    "framerate = 30  # (Hz)\n",
    "\n",
    "# Simulate and display video.\n",
    "frames = []\n",
    "\n",
    "# Reset state and time.\n",
    "mujoco.mj_resetData(model, data)\n",
    "mujoco.mj_forward(model, data)\n",
    "\n",
    "while data.time < duration:\n",
    "  # append data to the traces\n",
    "  positions.append(data.geom_xpos[data.geom(\"green_sphere\").id].copy())\n",
    "  times.append(data.time)\n",
    "  speeds.append(get_geom_speed(model, data, \"green_sphere\"))\n",
    "  mujoco.mj_step(model, data)\n",
    "  if len(frames) < data.time * framerate:\n",
    "    renderer.update_scene(data)\n",
    "    modify_scene(renderer.scene)\n",
    "    pixels = renderer.render()\n",
    "    frames.append(pixels)\n",
    "media.show_video(frames, fps=framerate)"
   ]
  }
 ],
 "metadata": {
  "accelerator": "GPU",
  "colab": {
   "collapsed_sections": [
    "-re3Szx-1Ias"
   ],
   "private_outputs": true,
   "provenance": [],
   "toc_visible": true
  },
  "gpuClass": "premium",
  "kernelspec": {
   "display_name": "Python 3 (ipykernel)",
   "language": "python",
   "name": "python3"
  },
  "language_info": {
   "codemirror_mode": {
    "name": "ipython",
    "version": 3
   },
   "file_extension": ".py",
   "mimetype": "text/x-python",
   "name": "python",
   "nbconvert_exporter": "python",
   "pygments_lexer": "ipython3",
   "version": "3.10.6"
  }
 },
 "nbformat": 4,
 "nbformat_minor": 1
}
